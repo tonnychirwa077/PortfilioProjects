{
  "nbformat": 4,
  "nbformat_minor": 0,
  "metadata": {
    "colab": {
      "provenance": [],
      "authorship_tag": "ABX9TyO7oO+XQ5G7Y8X3AS/PSqqC",
      "include_colab_link": true
    },
    "kernelspec": {
      "name": "python3",
      "display_name": "Python 3"
    },
    "language_info": {
      "name": "python"
    }
  },
  "cells": [
    {
      "cell_type": "markdown",
      "metadata": {
        "id": "view-in-github",
        "colab_type": "text"
      },
      "source": [
        "<a href=\"https://colab.research.google.com/github/tonnychirwa077/PortfilioProjects/blob/main/Tonny_REGEX_Tutorial.ipynb\" target=\"_parent\"><img src=\"https://colab.research.google.com/assets/colab-badge.svg\" alt=\"Open In Colab\"/></a>"
      ]
    },
    {
      "cell_type": "code",
      "execution_count": 2,
      "metadata": {
        "id": "gzoo9OKuDOEZ"
      },
      "outputs": [],
      "source": [
        "import re"
      ]
    },
    {
      "cell_type": "markdown",
      "source": [
        "We start the real business"
      ],
      "metadata": {
        "id": "5HE6dxmXDook"
      }
    },
    {
      "cell_type": "code",
      "source": [
        "pattern = re.compile(\"^[A-Z]+$\")\n",
        "print(pattern.search('HELLO WORLD'))\n",
        "print(pattern.search('hello world'))\n",
        "print(pattern.search('HELLOWORLD'))"
      ],
      "metadata": {
        "colab": {
          "base_uri": "https://localhost:8080/"
        },
        "id": "ADIZRp2kDzFY",
        "outputId": "2f38f40b-094e-49a4-ae94-64d98c900126"
      },
      "execution_count": null,
      "outputs": [
        {
          "output_type": "stream",
          "name": "stdout",
          "text": [
            "None\n",
            "None\n",
            "<re.Match object; span=(0, 10), match='HELLOWORLD'>\n"
          ]
        }
      ]
    },
    {
      "cell_type": "code",
      "source": [
        "pattern = re.compile(\"^[a-z]+$\")\n",
        "print(pattern.search('hello world'))\n",
        "print(pattern.search('Hello World'))\n",
        "print(pattern.search('helloworld'))"
      ],
      "metadata": {
        "colab": {
          "base_uri": "https://localhost:8080/"
        },
        "id": "yu56NzLNF2HG",
        "outputId": "ce2818be-77b3-4fa0-e90b-0cca8b375624"
      },
      "execution_count": null,
      "outputs": [
        {
          "output_type": "stream",
          "name": "stdout",
          "text": [
            "None\n",
            "None\n",
            "<re.Match object; span=(0, 10), match='helloworld'>\n"
          ]
        }
      ]
    },
    {
      "cell_type": "code",
      "source": [
        "pattern = re.compile(\"^[A-Z]+$\")\n",
        "print(pattern.match('HELLO WORLD'))\n",
        "print(pattern.match('Hello World'))\n",
        "print(pattern.match('HELLOWORLD'))\n",
        "print(pattern.match('HELLOWORLD HOW ARE YOU'))"
      ],
      "metadata": {
        "colab": {
          "base_uri": "https://localhost:8080/"
        },
        "id": "Z4MQSl3aIfBt",
        "outputId": "5518b661-365d-42d0-e21a-b76616dab1ee"
      },
      "execution_count": null,
      "outputs": [
        {
          "output_type": "stream",
          "name": "stdout",
          "text": [
            "None\n",
            "None\n",
            "<re.Match object; span=(0, 10), match='HELLOWORLD'>\n",
            "None\n"
          ]
        }
      ]
    },
    {
      "cell_type": "code",
      "source": [
        "pattern = re.compile(\"[a-z]+\")\n",
        "print(pattern.search('Hello World'))\n",
        "print(pattern.search('Hello world'))\n",
        "print(pattern.search('hello world'))\n",
        "print(pattern.search('HELLO WORLD'))"
      ],
      "metadata": {
        "colab": {
          "base_uri": "https://localhost:8080/"
        },
        "id": "OMzCqUz-J5dj",
        "outputId": "21de2571-0a5d-4da4-ee09-fc58a1ca6e06"
      },
      "execution_count": 7,
      "outputs": [
        {
          "output_type": "stream",
          "name": "stdout",
          "text": [
            "<re.Match object; span=(1, 5), match='ello'>\n",
            "<re.Match object; span=(1, 5), match='ello'>\n",
            "<re.Match object; span=(0, 5), match='hello'>\n",
            "None\n"
          ]
        }
      ]
    },
    {
      "cell_type": "code",
      "source": [
        "pattern = re.compile(\"[a-z]+\")\n",
        "print(pattern.match('Hello World'))\n",
        "print(pattern.match('Hello world'))\n",
        "print(pattern.match('hello world'))\n",
        "print(pattern.match('HELLO WORLD'))"
      ],
      "metadata": {
        "colab": {
          "base_uri": "https://localhost:8080/"
        },
        "id": "k0lG5BigKklp",
        "outputId": "e84b2068-0163-4868-dcd6-ef7ad001fa0c"
      },
      "execution_count": 5,
      "outputs": [
        {
          "output_type": "stream",
          "name": "stdout",
          "text": [
            "None\n",
            "None\n",
            "<re.Match object; span=(0, 5), match='hello'>\n",
            "None\n"
          ]
        }
      ]
    },
    {
      "cell_type": "code",
      "source": [
        "pattern = re.compile(\"[a-zA-Z\\s]+\")\n",
        "print(pattern.search('Hello World'))\n",
        "print(pattern.search('8Hello wor8ld'))\n",
        "print(pattern.search('Hello wor8ld'))\n",
        "print(pattern.search('hello world'))\n",
        "print(pattern.search('HELLO WORLD'))"
      ],
      "metadata": {
        "colab": {
          "base_uri": "https://localhost:8080/"
        },
        "id": "PC82AoniAdbV",
        "outputId": "90122005-e363-4dcd-c010-a446cef3c8c9"
      },
      "execution_count": 33,
      "outputs": [
        {
          "output_type": "stream",
          "name": "stdout",
          "text": [
            "<re.Match object; span=(0, 11), match='Hello World'>\n",
            "<re.Match object; span=(1, 10), match='Hello wor'>\n",
            "<re.Match object; span=(0, 9), match='Hello wor'>\n",
            "<re.Match object; span=(0, 11), match='hello world'>\n",
            "<re.Match object; span=(0, 11), match='HELLO WORLD'>\n"
          ]
        }
      ]
    },
    {
      "cell_type": "code",
      "source": [
        "pattern = re.compile(\"[\\sa-zA-Z]+\")\n",
        "print(pattern.match('Hello World'))\n",
        "print(pattern.match('8Hello wor8ld'))\n",
        "print(pattern.match('Hello wor8ld'))\n",
        "print(pattern.match('hello world'))\n",
        "print(pattern.match('HELLO WORLD'))"
      ],
      "metadata": {
        "colab": {
          "base_uri": "https://localhost:8080/"
        },
        "id": "O3PcTUYCCLt4",
        "outputId": "44ff4c69-ef3e-4773-f9e3-2ff9240e5c80"
      },
      "execution_count": 38,
      "outputs": [
        {
          "output_type": "stream",
          "name": "stdout",
          "text": [
            "<re.Match object; span=(0, 11), match='Hello World'>\n",
            "None\n",
            "<re.Match object; span=(0, 9), match='Hello wor'>\n",
            "<re.Match object; span=(0, 11), match='hello world'>\n",
            "<re.Match object; span=(0, 11), match='HELLO WORLD'>\n"
          ]
        }
      ]
    },
    {
      "cell_type": "code",
      "source": [
        "pattern = re.compile(\"^[\\sa-zA-Z]+$\")\n",
        "print(pattern.match('Hello World'))\n",
        "print(pattern.match('8Hello wor8ld'))\n",
        "print(pattern.match('Hello wor8ld'))\n",
        "print(pattern.match('hello world'))\n",
        "print(pattern.match('HELLO WORLD'))"
      ],
      "metadata": {
        "colab": {
          "base_uri": "https://localhost:8080/"
        },
        "id": "hlEDrjYfN8pe",
        "outputId": "755e91bd-a400-4431-b5fe-1f55da6c16cc"
      },
      "execution_count": 41,
      "outputs": [
        {
          "output_type": "stream",
          "name": "stdout",
          "text": [
            "<re.Match object; span=(0, 11), match='Hello World'>\n",
            "None\n",
            "None\n",
            "<re.Match object; span=(0, 11), match='hello world'>\n",
            "<re.Match object; span=(0, 11), match='HELLO WORLD'>\n"
          ]
        }
      ]
    },
    {
      "cell_type": "code",
      "source": [
        "# Enter characters with\n",
        "# 3-5 digits\n",
        "# 3 lower case letters\n",
        "# one symbol\n",
        "# up to two upper case letters [optional]\n",
        "pattern2 = re.compile('^[0-9]{3,5}[a-z]{3}[^a-zA-Z0-9]{1}[A-Z]{0,2}')\n",
        "print(pattern2.match('123abc$'))\n",
        "print(pattern2.match('123abc&$'))"
      ],
      "metadata": {
        "colab": {
          "base_uri": "https://localhost:8080/"
        },
        "id": "nJ53_ylpJ2L5",
        "outputId": "fa6d23ad-9ad9-49ed-f4fb-71dd4d898333"
      },
      "execution_count": 42,
      "outputs": [
        {
          "output_type": "stream",
          "name": "stdout",
          "text": [
            "<re.Match object; span=(0, 7), match='123abc$'>\n",
            "<re.Match object; span=(0, 7), match='123abc&'>\n"
          ]
        }
      ]
    },
    {
      "cell_type": "code",
      "source": [
        "# We want a string with whatever characters as long as it has a length of 10\n",
        "pattern3 = re.compile('^.{10}')\n",
        "print(pattern3.match('abcdefghij'))\n",
        "print(pattern3.match('0123456789'))\n",
        "print(pattern3.match('012%$56789'))"
      ],
      "metadata": {
        "colab": {
          "base_uri": "https://localhost:8080/"
        },
        "id": "0pyQmSNCR-V6",
        "outputId": "23cb1edb-50fb-4ca7-cecd-87bc23cb4054"
      },
      "execution_count": 45,
      "outputs": [
        {
          "output_type": "stream",
          "name": "stdout",
          "text": [
            "<re.Match object; span=(0, 10), match='abcdefghij'>\n",
            "<re.Match object; span=(0, 10), match='0123456789'>\n",
            "<re.Match object; span=(0, 10), match='012%$56789'>\n"
          ]
        }
      ]
    },
    {
      "cell_type": "code",
      "source": [
        "# Validating Emails using REGEX\n",
        "\n",
        "email_pattern = re.compile('^[a-zA-Z0-9\\-_\\.]+@{1}[a-zA-Z0-9]+\\.{1}[a-zA-Z0-9]{2,3}$')\n",
        "print(email_pattern.match('tonnychirwa077@gmail.com'))\n",
        "print(email_pattern.match('anthonychirwa077@gmail.com'))\n",
        "print(email_pattern.match('tonniny077@gmail.com'))\n",
        "print(email_pattern.match('tonnychirwa077@gmail.tz'))\n",
        "print(email_pattern.match('tonnychirwa077@gmail.fsdi'))\n"
      ],
      "metadata": {
        "colab": {
          "base_uri": "https://localhost:8080/"
        },
        "id": "1wlnixNZS0wC",
        "outputId": "c4b0ead2-459e-4907-8b54-7a00663364e4"
      },
      "execution_count": 51,
      "outputs": [
        {
          "output_type": "stream",
          "name": "stdout",
          "text": [
            "<re.Match object; span=(0, 24), match='tonnychirwa077@gmail.com'>\n",
            "<re.Match object; span=(0, 26), match='anthonychirwa077@gmail.com'>\n",
            "<re.Match object; span=(0, 20), match='tonniny077@gmail.com'>\n",
            "<re.Match object; span=(0, 23), match='tonnychirwa077@gmail.tz'>\n",
            "None\n"
          ]
        }
      ]
    }
  ]
}
